{
 "cells": [
  {
   "cell_type": "code",
   "execution_count": 1,
   "id": "b898c994",
   "metadata": {},
   "outputs": [
    {
     "name": "stdout",
     "output_type": "stream",
     "text": [
      "Note: you may need to restart the kernel to use updated packages.Collecting jupytext\n",
      "  Obtaining dependency information for jupytext from https://files.pythonhosted.org/packages/19/d0/8cc6fb49c36794f15f8ce50f54b9327029a0d738097c085df95b0d1d108f/jupytext-1.16.1-py3-none-any.whl.metadata\n",
      "  Downloading jupytext-1.16.1-py3-none-any.whl.metadata (12 kB)\n",
      "Collecting markdown-it-py>=1.0 (from jupytext)\n",
      "  Obtaining dependency information for markdown-it-py>=1.0 from https://files.pythonhosted.org/packages/42/d7/1ec15b46af6af88f19b8e5ffea08fa375d433c998b8a7639e76935c14f1f/markdown_it_py-3.0.0-py3-none-any.whl.metadata\n",
      "  Downloading markdown_it_py-3.0.0-py3-none-any.whl.metadata (6.9 kB)\n",
      "Collecting mdit-py-plugins (from jupytext)\n",
      "  Obtaining dependency information for mdit-py-plugins from https://files.pythonhosted.org/packages/e5/3c/fe85f19699a7b40c8f9ce8ecee7e269b9b3c94099306df6f9891bdefeedd/mdit_py_plugins-0.4.0-py3-none-any.whl.metadata\n",
      "  Downloading mdit_py_plugins-0.4.0-py3-none-any.whl.metadata (2.7 kB)\n",
      "Requirement already satisfied: nbformat in c:\\users\\hp\\appdata\\local\\programs\\python\\python311\\lib\\site-packages (from jupytext) (5.7.1)\n",
      "Requirement already satisfied: packaging in c:\\users\\hp\\appdata\\local\\programs\\python\\python311\\lib\\site-packages (from jupytext) (22.0)\n",
      "Requirement already satisfied: pyyaml in c:\\users\\hp\\appdata\\local\\programs\\python\\python311\\lib\\site-packages (from jupytext) (6.0)\n",
      "Collecting toml (from jupytext)\n",
      "  Downloading toml-0.10.2-py2.py3-none-any.whl (16 kB)\n",
      "Collecting mdurl~=0.1 (from markdown-it-py>=1.0->jupytext)\n",
      "  Downloading mdurl-0.1.2-py3-none-any.whl (10.0 kB)\n",
      "Requirement already satisfied: fastjsonschema in c:\\users\\hp\\appdata\\local\\programs\\python\\python311\\lib\\site-packages (from nbformat->jupytext) (2.16.2)\n",
      "Requirement already satisfied: jsonschema>=2.6 in c:\\users\\hp\\appdata\\local\\programs\\python\\python311\\lib\\site-packages (from nbformat->jupytext) (4.17.3)\n",
      "Requirement already satisfied: jupyter-core in c:\\users\\hp\\appdata\\local\\programs\\python\\python311\\lib\\site-packages (from nbformat->jupytext) (5.1.2)\n",
      "Requirement already satisfied: traitlets>=5.1 in c:\\users\\hp\\appdata\\local\\programs\\python\\python311\\lib\\site-packages (from nbformat->jupytext) (5.8.0)\n",
      "Requirement already satisfied: attrs>=17.4.0 in c:\\users\\hp\\appdata\\local\\programs\\python\\python311\\lib\\site-packages (from jsonschema>=2.6->nbformat->jupytext) (22.2.0)\n",
      "Requirement already satisfied: pyrsistent!=0.17.0,!=0.17.1,!=0.17.2,>=0.14.0 in c:\\users\\hp\\appdata\\local\\programs\\python\\python311\\lib\\site-packages (from jsonschema>=2.6->nbformat->jupytext) (0.19.3)\n",
      "Requirement already satisfied: platformdirs>=2.5 in c:\\users\\hp\\appdata\\local\\programs\\python\\python311\\lib\\site-packages (from jupyter-core->nbformat->jupytext) (2.6.2)\n",
      "Requirement already satisfied: pywin32>=1.0 in c:\\users\\hp\\appdata\\local\\programs\\python\\python311\\lib\\site-packages (from jupyter-core->nbformat->jupytext) (305)\n",
      "Downloading jupytext-1.16.1-py3-none-any.whl (152 kB)\n",
      "   ---------------------------------------- 0.0/152.7 kB ? eta -:--:--\n",
      "   -- ------------------------------------- 10.2/152.7 kB ? eta -:--:--\n",
      "   ------- ------------------------------- 30.7/152.7 kB 330.3 kB/s eta 0:00:01\n",
      "   ---------- ---------------------------- 41.0/152.7 kB 330.3 kB/s eta 0:00:01\n",
      "   --------------- ----------------------- 61.4/152.7 kB 365.7 kB/s eta 0:00:01\n",
      "   ------------------ -------------------- 71.7/152.7 kB 328.6 kB/s eta 0:00:01\n",
      "   ----------------------- --------------- 92.2/152.7 kB 350.1 kB/s eta 0:00:01\n",
      "   ---------------------------- --------- 112.6/152.7 kB 386.4 kB/s eta 0:00:01\n",
      "   ----------------------------------- -- 143.4/152.7 kB 388.1 kB/s eta 0:00:01\n",
      "   ----------------------------------- -- 143.4/152.7 kB 388.1 kB/s eta 0:00:01\n",
      "   -------------------------------------- 152.7/152.7 kB 350.9 kB/s eta 0:00:00\n",
      "Downloading markdown_it_py-3.0.0-py3-none-any.whl (87 kB)\n",
      "   ---------------------------------------- 0.0/87.5 kB ? eta -:--:--\n",
      "   -------------- ------------------------- 30.7/87.5 kB ? eta -:--:--\n",
      "   ------------------ --------------------- 41.0/87.5 kB 495.5 kB/s eta 0:00:01\n",
      "   ---------------------------- ----------- 61.4/87.5 kB 544.7 kB/s eta 0:00:01\n",
      "   ---------------------------------------- 87.5/87.5 kB 413.3 kB/s eta 0:00:00\n",
      "Downloading mdit_py_plugins-0.4.0-py3-none-any.whl (54 kB)\n",
      "   ---------------------------------------- 0.0/54.1 kB ? eta -:--:--\n",
      "   ------- -------------------------------- 10.2/54.1 kB ? eta -:--:--\n",
      "   ------------------------------ --------- 41.0/54.1 kB 393.8 kB/s eta 0:00:01\n",
      "   ---------------------------------------- 54.1/54.1 kB 466.4 kB/s eta 0:00:00\n",
      "Installing collected packages: toml, mdurl, markdown-it-py, mdit-py-plugins, jupytext\n",
      "Successfully installed jupytext-1.16.1 markdown-it-py-3.0.0 mdit-py-plugins-0.4.0 mdurl-0.1.2 toml-0.10.2\n",
      "\n"
     ]
    },
    {
     "name": "stderr",
     "output_type": "stream",
     "text": [
      "\n",
      "[notice] A new release of pip is available: 23.2.1 -> 23.3.2\n",
      "[notice] To update, run: python.exe -m pip install --upgrade pip\n"
     ]
    },
    {
     "name": "stdout",
     "output_type": "stream",
     "text": [
      "[jupytext] Reading MakeDataset.py in format py\n",
      "[jupytext] Writing MakeDataset.ipynb\n"
     ]
    }
   ],
   "source": [
    "%pip install jupytext\n",
    "!jupytext --to notebook MakeDataset.py"
   ]
  },
  {
   "cell_type": "code",
   "execution_count": null,
   "id": "c86531b9",
   "metadata": {},
   "outputs": [],
   "source": []
  }
 ],
 "metadata": {
  "kernelspec": {
   "display_name": "Python 3 (ipykernel)",
   "language": "python",
   "name": "python3"
  },
  "language_info": {
   "codemirror_mode": {
    "name": "ipython",
    "version": 3
   },
   "file_extension": ".py",
   "mimetype": "text/x-python",
   "name": "python",
   "nbconvert_exporter": "python",
   "pygments_lexer": "ipython3",
   "version": "3.11.1"
  }
 },
 "nbformat": 4,
 "nbformat_minor": 5
}
